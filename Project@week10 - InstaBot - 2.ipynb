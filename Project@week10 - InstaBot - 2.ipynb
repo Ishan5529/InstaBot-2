{
 "cells": [
  {
   "cell_type": "markdown",
   "id": "64fc9a17-500a-4cb8-9311-7c3d31295f05",
   "metadata": {},
   "source": [
    "### Set your Username and Password Here"
   ]
  },
  {
   "cell_type": "code",
   "execution_count": 219,
   "id": "cefef5db-5219-4c99-9b02-7dad63eb1bb6",
   "metadata": {},
   "outputs": [],
   "source": [
    "u_name = \"Sample_Username\"\n",
    "p_word = \"Sample_password\""
   ]
  },
  {
   "cell_type": "markdown",
   "id": "171e8568-9ea2-4d40-ae3f-73b698ca6ab0",
   "metadata": {},
   "source": [
    "### Installing import_ipynb to import the previous notebook modules"
   ]
  },
  {
   "cell_type": "code",
   "execution_count": 3,
   "id": "e383b7d2-f0cb-4921-8103-b71f4d618eec",
   "metadata": {},
   "outputs": [
    {
     "name": "stdout",
     "output_type": "stream",
     "text": [
      "Defaulting to user installation because normal site-packages is not writeable\n",
      "Requirement already satisfied: import_ipynb in c:\\users\\ishan\\appdata\\roaming\\python\\python311\\site-packages (0.1.4)\n",
      "Requirement already satisfied: IPython in c:\\programdata\\anaconda3\\lib\\site-packages (from import_ipynb) (8.20.0)\n",
      "Requirement already satisfied: nbformat in c:\\programdata\\anaconda3\\lib\\site-packages (from import_ipynb) (5.9.2)\n",
      "Requirement already satisfied: decorator in c:\\programdata\\anaconda3\\lib\\site-packages (from IPython->import_ipynb) (5.1.1)\n",
      "Requirement already satisfied: jedi>=0.16 in c:\\programdata\\anaconda3\\lib\\site-packages (from IPython->import_ipynb) (0.18.1)\n",
      "Requirement already satisfied: matplotlib-inline in c:\\programdata\\anaconda3\\lib\\site-packages (from IPython->import_ipynb) (0.1.6)\n",
      "Requirement already satisfied: prompt-toolkit<3.1.0,>=3.0.41 in c:\\programdata\\anaconda3\\lib\\site-packages (from IPython->import_ipynb) (3.0.43)\n",
      "Requirement already satisfied: pygments>=2.4.0 in c:\\programdata\\anaconda3\\lib\\site-packages (from IPython->import_ipynb) (2.15.1)\n",
      "Requirement already satisfied: stack-data in c:\\programdata\\anaconda3\\lib\\site-packages (from IPython->import_ipynb) (0.2.0)\n",
      "Requirement already satisfied: traitlets>=5 in c:\\programdata\\anaconda3\\lib\\site-packages (from IPython->import_ipynb) (5.7.1)\n",
      "Requirement already satisfied: colorama in c:\\programdata\\anaconda3\\lib\\site-packages (from IPython->import_ipynb) (0.4.6)\n",
      "Requirement already satisfied: fastjsonschema in c:\\programdata\\anaconda3\\lib\\site-packages (from nbformat->import_ipynb) (2.16.2)\n",
      "Requirement already satisfied: jsonschema>=2.6 in c:\\programdata\\anaconda3\\lib\\site-packages (from nbformat->import_ipynb) (4.19.2)\n",
      "Requirement already satisfied: jupyter-core in c:\\programdata\\anaconda3\\lib\\site-packages (from nbformat->import_ipynb) (5.5.0)\n",
      "Requirement already satisfied: parso<0.9.0,>=0.8.0 in c:\\programdata\\anaconda3\\lib\\site-packages (from jedi>=0.16->IPython->import_ipynb) (0.8.3)\n",
      "Requirement already satisfied: attrs>=22.2.0 in c:\\users\\ishan\\appdata\\roaming\\python\\python311\\site-packages (from jsonschema>=2.6->nbformat->import_ipynb) (23.2.0)\n",
      "Requirement already satisfied: jsonschema-specifications>=2023.03.6 in c:\\programdata\\anaconda3\\lib\\site-packages (from jsonschema>=2.6->nbformat->import_ipynb) (2023.7.1)\n",
      "Requirement already satisfied: referencing>=0.28.4 in c:\\programdata\\anaconda3\\lib\\site-packages (from jsonschema>=2.6->nbformat->import_ipynb) (0.30.2)\n",
      "Requirement already satisfied: rpds-py>=0.7.1 in c:\\programdata\\anaconda3\\lib\\site-packages (from jsonschema>=2.6->nbformat->import_ipynb) (0.10.6)\n",
      "Requirement already satisfied: wcwidth in c:\\programdata\\anaconda3\\lib\\site-packages (from prompt-toolkit<3.1.0,>=3.0.41->IPython->import_ipynb) (0.2.5)\n",
      "Requirement already satisfied: platformdirs>=2.5 in c:\\programdata\\anaconda3\\lib\\site-packages (from jupyter-core->nbformat->import_ipynb) (3.10.0)\n",
      "Requirement already satisfied: pywin32>=300 in c:\\programdata\\anaconda3\\lib\\site-packages (from jupyter-core->nbformat->import_ipynb) (305.1)\n",
      "Requirement already satisfied: executing in c:\\programdata\\anaconda3\\lib\\site-packages (from stack-data->IPython->import_ipynb) (0.8.3)\n",
      "Requirement already satisfied: asttokens in c:\\programdata\\anaconda3\\lib\\site-packages (from stack-data->IPython->import_ipynb) (2.0.5)\n",
      "Requirement already satisfied: pure-eval in c:\\programdata\\anaconda3\\lib\\site-packages (from stack-data->IPython->import_ipynb) (0.2.2)\n",
      "Requirement already satisfied: six in c:\\programdata\\anaconda3\\lib\\site-packages (from asttokens->stack-data->IPython->import_ipynb) (1.16.0)\n"
     ]
    }
   ],
   "source": [
    "!pip3 install import_ipynb"
   ]
  },
  {
   "cell_type": "markdown",
   "id": "22d8bdd1-95e9-4a80-b0f5-c00ad053cf0c",
   "metadata": {},
   "source": [
    "### Importing all the required modules"
   ]
  },
  {
   "cell_type": "code",
   "execution_count": 215,
   "id": "c323835b-28e6-4c0d-b84e-ac3ec684ac78",
   "metadata": {},
   "outputs": [],
   "source": [
    "import selenium\n",
    "from selenium import webdriver\n",
    "from selenium.webdriver.common.keys import Keys\n",
    "from selenium.webdriver.chrome.options import Options\n",
    "from selenium.webdriver.support import expected_conditions as EC\n",
    "from selenium.webdriver.support.wait import WebDriverWait\n",
    "from selenium.webdriver.common.by import By\n",
    "import pandas as pd\n",
    "import numpy as np\n",
    "import matplotlib.pyplot as plt\n",
    "from bs4 import BeautifulSoup\n",
    "import time\n",
    "from datetime import date, timedelta\n",
    "import import_ipynb\n",
    "import InstaBot1 as ib\n",
    "import math"
   ]
  },
  {
   "cell_type": "markdown",
   "id": "cbd27a97-8040-47da-8bc1-a3ee1ff15f5e",
   "metadata": {},
   "source": [
    "### Functions used in the code, other than the previous ones."
   ]
  },
  {
   "cell_type": "code",
   "execution_count": 4,
   "id": "bd14de8e-8b6b-4854-afd1-867c69e9a446",
   "metadata": {},
   "outputs": [],
   "source": [
    "def open_profile_user(driver, profile_name):\n",
    "    url = f\"https://www.instagram.com/{profile_name}/\"\n",
    "    driver.get(url)"
   ]
  },
  {
   "cell_type": "code",
   "execution_count": 5,
   "id": "1647f01d-0344-4c3d-a115-0213bdfbc5df",
   "metadata": {},
   "outputs": [],
   "source": [
    "def tot_followers(driver, profile_name):\n",
    "    ### Open profile by user name, if user name is known, else, search and open the top profile\n",
    "    try:\n",
    "        open_profile_user(driver, profile_name)\n",
    "    except:\n",
    "        ib.open_profile(driver, profile_name)\n",
    "    \n",
    "    time.sleep(2)\n",
    "    \n",
    "    a_element = WebDriverWait(driver, 20).until(EC.visibility_of(driver.find_element(By.CSS_SELECTOR, 'a.x1i10hfl.xjbqb8w.x1ejq31n.xd10rxx.x1sy0etr.x17r0tee.x972fbf.xcfux6l.x1qhh985.xm0m39n.x9f619.x1ypdohk.xt0psk2.xe8uvvx.xdj266r.x11i5rnm.xat24cr.x1mh8g0r.xexx8yu.x4uap5.x18d9i69.xkhd6sd.x16tdsg8.x1hl2dhg.xggy1nq.x1a2a7pz._alvs._a6hd')))\n",
    "    span_element = a_element.find_element('tag name', 'span')\n",
    "    follower_count = int(span_element.get_attribute('title').replace(',', ''))\n",
    "    return follower_count"
   ]
  },
  {
   "cell_type": "code",
   "execution_count": 192,
   "id": "65443140-93bc-4a1c-bf72-51725d6c88df",
   "metadata": {},
   "outputs": [],
   "source": [
    "### Function to compare to functions\n",
    "def months(month1, month2):\n",
    "    if month1 == 'Jan':\n",
    "        return 0\n",
    "    if month1 == 'Feb' and month2 == 'Jan':\n",
    "        return 1\n",
    "    if month1 == 'Mar' and month2 == 'Feb':\n",
    "        return 1\n",
    "    if month1 == 'Apr' and month2 == 'Mar':\n",
    "        return 1\n",
    "    if month1 == 'May' and month2 == 'Apr':\n",
    "        return 1\n",
    "    if month1 == 'Jun' and month2 == 'May':\n",
    "        return 1\n",
    "    if month1 == 'Jul' and month2 == 'Jun':\n",
    "        return 1\n",
    "    if month1 == 'Aug' and month2 == 'Jul':\n",
    "        return 1\n",
    "    if month1 == 'Sep' and month2 == 'Aug':\n",
    "        return 1\n",
    "    if month1 == 'Oct' and month2 == 'Sep':\n",
    "        return 1\n",
    "    if month1 == 'Nov' and month2 == 'Oct':\n",
    "        return 1\n",
    "    if month1 == 'Dec' and month2 == 'Nov':\n",
    "        return 1\n",
    "    return 0"
   ]
  },
  {
   "cell_type": "code",
   "execution_count": 191,
   "id": "24d3321e-1294-4986-a479-ff26af23844e",
   "metadata": {},
   "outputs": [],
   "source": [
    "# More efficient method, this will work, even if instagram updates it's UI\n",
    "def check_date_range(driver, post_url, days):\n",
    "\n",
    "    ### Fetching the post\n",
    "    driver.get(post_url)\n",
    "    time.sleep(1.5)\n",
    "\n",
    "    ### Extracting post date\n",
    "    post_date = driver.find_element(By.CSS_SELECTOR, 'time.x1p4m5qa').get_attribute('title')\n",
    "    post_date = post_date.replace(',', '').split()\n",
    "    p_day = int(post_date[1])\n",
    "    p_month = post_date[0]\n",
    "    p_year = int(post_date[2])\n",
    "\n",
    "    ### Fetching today's date\n",
    "    today = date.today()\n",
    "\n",
    "    ### Fetching the date, 'days' days earlier\n",
    "    dt = today - timedelta(days)\n",
    "    d2 = dt.strftime(\"%b-%d-%Y\").split('-')\n",
    "    g_day = int(d2[1])\n",
    "    g_month = d2[0]\n",
    "    g_year = int(d2[2])\n",
    "\n",
    "    ### Return True, if post year comes after given year\n",
    "    if p_year > g_year:\n",
    "        return 1\n",
    "\n",
    "    ### Return True, if post month comes after given month\n",
    "    if months(p_month, g_month):\n",
    "        return 1\n",
    "\n",
    "    ### Return True, if post day comes after or on given day\n",
    "    if p_day >= g_day:\n",
    "        return 1\n",
    "    return 0"
   ]
  },
  {
   "cell_type": "code",
   "execution_count": 190,
   "id": "9aed14cb-24c2-47b0-895b-164b67d87275",
   "metadata": {},
   "outputs": [],
   "source": [
    "def recent_posts(driver, profile_name, scrolls = 4):\n",
    "    ### Opening the given profile\n",
    "    driver.get(f'https://www.instagram.com/{profile_name}/')\n",
    "\n",
    "    time.sleep(2)\n",
    "\n",
    "    links = []\n",
    "    count = 0\n",
    "    current_height = driver.execute_script('return document.body.scrollHeight')\n",
    "    while True:\n",
    "        ### Finding all the divs with the posts\n",
    "        tot_divs = driver.find_elements(By.CSS_SELECTOR, 'div._ac7v.xras4av.xgc1b0m.xat24cr.xzboxd6')\n",
    "        if len(tot_divs) < (scrolls):\n",
    "            ### Scrolling to end of current height\n",
    "            driver.execute_script(f'window.scrollTo(0, {current_height})')\n",
    "            time.sleep(1)\n",
    "            new_height = driver.execute_script('return document.body.scrollHeight')\n",
    "            \n",
    "            ### Break loop, if no scroll happens\n",
    "            if new_height != current_height:\n",
    "                current_height = new_height\n",
    "                continue\n",
    "        else:\n",
    "            break\n",
    "\n",
    "    ### Extracting all the post links\n",
    "    for div_element in tot_divs:\n",
    "        divs = div_element.find_elements(By.CSS_SELECTOR, 'div.x1lliihq.x1n2onr6.xh8yej3.x4gyw5p.xfllauq.xo2y696.x11i5rnm.x2pgyrj')\n",
    "        for each_div in divs:\n",
    "            link = each_div.find_element('tag name', 'a')\n",
    "            url = link.get_attribute('href')\n",
    "            links.append(url)\n",
    "            count += 1\n",
    "            if count == 30:\n",
    "                break\n",
    "        if count == 30:\n",
    "            break\n",
    "\n",
    "    return links"
   ]
  },
  {
   "cell_type": "code",
   "execution_count": 189,
   "id": "e17827f7-34cb-487c-92d8-2de171fc09e8",
   "metadata": {},
   "outputs": [],
   "source": [
    "def posts_by_days(driver, profile_name, days = 3):\n",
    "    ### Extracting the post urls\n",
    "    post_urls = recent_posts(driver, profile_name)\n",
    "    \n",
    "    ### Creating a count and pin flag\n",
    "    count = 0\n",
    "    pin_flag = 0\n",
    "\n",
    "    ### Iterating over all the post_urls\n",
    "    for post_url in post_urls:\n",
    "        \n",
    "        ### Checking if the post lies within given date range\n",
    "        if check_date_range(driver, post_url, days):\n",
    "            count += 1\n",
    "            \n",
    "            ### Set pin flag, if one such post is found\n",
    "            pin_flag += 1\n",
    "        \n",
    "        ### If post not in given day range and pin flag is set, break the loop\n",
    "        elif pin_flag:\n",
    "            break\n",
    "    return count"
   ]
  },
  {
   "cell_type": "code",
   "execution_count": 122,
   "id": "1c089650-64dd-4d87-8687-ecb872e79027",
   "metadata": {},
   "outputs": [],
   "source": [
    "def scrape_post(driver, post_url):\n",
    "    driver.get(post_url)\n",
    "    time.sleep(2)\n",
    "    div_element = driver.find_elements(By.CSS_SELECTOR, 'div.x9f619.xjbqb8w.x78zum5.x168nmei.x13lgxp2.x5pf9jr.xo71vjh.x1uhb9sk.x1plvlek.xryxfnj.x1c4vz4f.x2lah0s.xdt5ytf.xqjyukv.x1qjc9v5.x1oa3qoh.x1nhvcw1')\n",
    "    try:\n",
    "        span_element = div_element[1].find_element(By.CSS_SELECTOR, 'span.x193iq5w.xeuugli.x1fj9vlw.x13faqbe.x1vvkbs.xt0psk2.x1i0vuye.xvs91rp.xo1l8bm.x5n08af.x10wh9bi.x1wdrske.x8viiok.x18hxmgj')\n",
    "    except:\n",
    "        span_element = div_element[2].find_element(By.CSS_SELECTOR, 'span.x193iq5w.xeuugli.x1fj9vlw.x13faqbe.x1vvkbs.xt0psk2.x1i0vuye.xvs91rp.xo1l8bm.x5n08af.x10wh9bi.x1wdrske.x8viiok.x18hxmgj')\n",
    "    format_text = span_element.text\n",
    "    format_text = format_text.replace('\\n', ' ')\n",
    "    format_text = format_text.replace('  ', ' ')\n",
    "    return format_text"
   ]
  },
  {
   "cell_type": "code",
   "execution_count": 124,
   "id": "e1fbdd6e-dd78-4fe5-9836-b730914f1849",
   "metadata": {},
   "outputs": [],
   "source": [
    "def post_content(driver, profile_name, count = 10):\n",
    "    post_urls = recent_posts(driver, profile_name)[:count]\n",
    "    posts_content = []\n",
    "    for post_url in post_urls:\n",
    "        posts_content.append(scrape_post(driver, post_url))\n",
    "\n",
    "    return posts_content"
   ]
  },
  {
   "cell_type": "code",
   "execution_count": 187,
   "id": "4647d6a2-d379-46d4-8cb0-e9fce143a12e",
   "metadata": {},
   "outputs": [],
   "source": [
    "def like_list(driver, profile_name, posts = 10):\n",
    "    post_urls = recent_posts(driver, profile_name)[:posts]\n",
    "    time.sleep(2)\n",
    "    likes_list = []\n",
    "    for post_url in post_urls:\n",
    "        driver.get(post_url)\n",
    "        time.sleep(2)\n",
    "        try:\n",
    "            like_div = driver.find_element(By.CSS_SELECTOR, 'div.x9f619.xjbqb8w.x78zum5.x168nmei.x13lgxp2.x5pf9jr.xo71vjh.x1n2onr6.x1plvlek.xryxfnj.x1iyjqo2.x2lwn1j.xeuugli.x1q0g3np.xqjyukv.x6s0dn4.x1oa3qoh.x1nhvcw1')\n",
    "            like_span = like_div.find_element('tag name', 'span').find_element('tag name', 'span').find_element('tag name', 'span')\n",
    "            likes = int(like_span.text.replace(',', ''))\n",
    "        except:\n",
    "            return 'likes are hidden for this profile'\n",
    "        likes_list.append(likes)\n",
    "    \n",
    "    return likes_list"
   ]
  },
  {
   "cell_type": "markdown",
   "id": "1b1b9ebc-9d8e-4b14-a6be-102d0ea43b20",
   "metadata": {},
   "source": [
    "## MAIN Function Starts Here"
   ]
  },
  {
   "cell_type": "markdown",
   "id": "4fe910b2-166b-4372-b5b1-9f58d7f44449",
   "metadata": {},
   "source": [
    "#### Log in to Instagram"
   ]
  },
  {
   "cell_type": "code",
   "execution_count": 165,
   "id": "94700e91-ffe3-4913-b786-b0ab6b915580",
   "metadata": {},
   "outputs": [],
   "source": [
    "driver = webdriver.Chrome()\n",
    "driver.get(\"https://www.instagram.com/\")\n",
    "ib.log_in_function(driver, u_name, p_word)"
   ]
  },
  {
   "cell_type": "markdown",
   "id": "9f804d3e-6e22-4631-945e-95402737982e",
   "metadata": {},
   "source": [
    "#### Question - 1"
   ]
  },
  {
   "cell_type": "code",
   "execution_count": 7,
   "id": "c1fd85fe-0f1c-43f2-9056-4d693a0dddeb",
   "metadata": {},
   "outputs": [
    {
     "name": "stdout",
     "output_type": "stream",
     "text": [
      "['foodpharmer', 2611689]\n",
      "['foodie_in_car', 434585]\n",
      "['foodtalkindia', 308764]\n",
      "['food', 182888]\n",
      "['foodies_of_bhubaneswar', 117380]\n"
     ]
    }
   ],
   "source": [
    "# 1.1\n",
    "\n",
    "## Search 'food' and extract top 10 handles\n",
    "ib.search_bar(driver, 'food')\n",
    "time.sleep(2)\n",
    "extracted_handles_list = ib.extract_handles(driver)[:10]\n",
    "\n",
    "user_followers = []\n",
    "for user_handle in extracted_handles_list:\n",
    "    row = []\n",
    "    row.append(user_handle)\n",
    "    row.append(tot_followers(driver, user_handle))\n",
    "    user_followers.append(row)\n",
    "\n",
    "## Now, sort the list according to the number of followers in descending order\n",
    "user_followers.sort(reverse = True, key = lambda x:x[1])\n",
    "\n",
    "## Keeping the top 5 handles only\n",
    "user_followers = user_followers[:5]\n",
    "\n",
    "for user_handle in user_followers:\n",
    "    print(user_handle)"
   ]
  },
  {
   "cell_type": "code",
   "execution_count": 66,
   "id": "c5b5c045-b148-4701-81e7-e8dcd1b0223e",
   "metadata": {},
   "outputs": [
    {
     "name": "stdout",
     "output_type": "stream",
     "text": [
      "{'foodpharmer': 3, 'foodie_in_car': 1, 'foodtalkindia': 5, 'food': 5, 'foodies_of_bhubaneswar': 1}\n"
     ]
    }
   ],
   "source": [
    "# 1.2\n",
    "\n",
    "posts_3 = {}\n",
    "for user_handle in user_followers:\n",
    "    posts_3[user_handle[0]] = posts_by_days(driver, user_handle[0])\n",
    "print(posts_3)"
   ]
  },
  {
   "cell_type": "code",
   "execution_count": 81,
   "id": "dbbf0b50-4832-4e3a-9fb0-114b248a9bf0",
   "metadata": {},
   "outputs": [
    {
     "data": {
      "image/png": "[encoded data removed]",
      "text/plain": [
       "<Figure size 640x480 with 1 Axes>"
      ]
     },
     "metadata": {},
     "output_type": "display_data"
    }
   ],
   "source": [
    "# 1.3\n",
    "\n",
    "## Using Bar Graph to represent the data\n",
    "handles = list(posts_3.keys())\n",
    "post_count = list(posts_3.values())\n",
    "\n",
    "plt.bar(handles, post_count, width = 0.75)\n",
    "\n",
    "## Rotating lables, to avoid overlapping labels\n",
    "plt.xticks(rotation = 20)\n",
    "\n",
    "## Showing grids for easier inference\n",
    "plt.grid()\n",
    "\n",
    "## Assigning a label to the graph\n",
    "plt.title('Posts in 3 days')\n",
    "\n",
    "## Assigning y-label\n",
    "plt.ylabel('post_count')\n",
    "\n",
    "## Assigning x-label\n",
    "plt.xlabel('Profile_name')\n",
    "plt.show()"
   ]
  },
  {
   "cell_type": "markdown",
   "id": "faa3c529-eafc-4fc2-8185-8129b90cd15f",
   "metadata": {},
   "source": [
    "### Question - 2"
   ]
  },
  {
   "cell_type": "code",
   "execution_count": 126,
   "id": "c4d9ac27-2642-4a77-a84f-2461816865b3",
   "metadata": {},
   "outputs": [
    {
     "name": "stdout",
     "output_type": "stream",
     "text": [
      "foodpharmer \n",
      " ['Full version with more celebrities on YouTube! Link in bio. Challenge details: · Upload a story or a post with a label. · Challenge 3 more people to do the same. · Tag food pharmer if you want me to repost (optional). · Use the Label Padhega India music which is available on Instagram music library Get your kids, friends, office colleagues to participate in this challenge! I will also give some gifts to 100+ people and personally meet some people who do these challenge! Label Padhega India is a health movement to fight against all the food scandals happening in India! Every week we hear of a new food issue such as the Baby formula, Children’s health drink, Indian chips having Palm oil and the Masala-cancer issue. If majority of us started reading labels, companies will be forced to stop false marketing and start giving us better quality food! Let us all unite and transform India from the Diabetes Capital of the world to the Health Capital of the World! Note- Full credits on YouTube.', 'What is the fastest way to get millions of Indian kids become more health literate? This is the question I was trying to answer when I thought of launching the sugarboard movement. Really grateful to see Sugarboard continuing to be a massive success and 100s of schools implementing it! *** There are a two things that I try to do in every video which has been paying off. 1) Make sure the video is simple enough for kids to understand 2) Make sure the video appeals to people from all economic groups.', 'Share this to spread the word! Just imagine if every school canteen, college mess, and office canteen had a sugar-board displaying the exact amount of sugar in every soft-drink! Habits form at an early age, and if we have a lot of sugar as a kid, chances are we will crave sugar as an adult too! If you end up creating a sugar board, tag me in your story, and I will reshare it! Disclaimer: There is no intention to defame any brand. Everything shared in this video is a personal opinion and purely for educational purposes. I do not own any copyright of any logos shown. Having excess sugar on a regular basis may potentially raise the risk of diabetes.', 'Supreme Court passes a historic rule! From 18th June, Supreme Court has mandated all companies to submit a self-declaration form before advertising any product. The self-declaration form forces companies to declare that their advertisements do not contain any misleading claims. Share! #LabelPadhegaIndia #SupremeCourt #ConsciousCapitalism', 'Share to spread awareness! 5 Indian packaged foods that fool the public. Request to food companies to reduce misleading labels! #LabelPadhegaIndia Note- I am finally bringing back the Golmaal series', 'Link in bio to register for the course! Excited to announce “The Health School”, my most ambitious project to get every single Indian to become Health Literate! This may become India’s biggest Health literacy movement till date. Over the next few months, I will partner with India’s leading doctors and nutritionists to create courses on nutrition science, muscle-building, diabetes prevention, PCOS etc. Let’s join hands and make India health literate together! thehealthschool.in #LabelSeekhegaIndia #LabelPadhegaIndia #SocialEntrepreneurship #ConsciousCapitalism', 'At Rashtrapati Bhavan today #LabelPadhegaIndia', 'Share to spread awareness of the huge win! Indian packaged food is rapidly shifting! In the last 12 months, we’ve had more positive change in the packaged food system than probably any other time in India’s history. FSSAI just passed a major rule that juice companies cannot use 1) 100% fruit juice 2) they will be forced to use “Sweetened Juice” for juices with more than 15grams of sugar per kg of juice #LabelPadhegaIndia', 'Spread the message! Sirf ghar “pe” mat khaiye, ghar “ka” khana khaiye! Most Indians think we are getting sick because of eating at restaurants but the secret culprit is the food we eat at home. A study which analyzed 4 lakh products across the world found that Indian packaged food has the most sugar, salt, saturated fat and calories compared to other countries. (Source: George Institute for Global Health) Note: This is an updated version of an earlier video', 'Grateful to be ranked #1 on the most influential Indians on Linkedin list by Favikon. I’m not sure of the methodology of the rankings but it still feels pretty good to have been able to create impact! I am going to go even more aggressive now! This is just the beginning! #LabelPadhegaIndia']\n",
      "foodie_in_car \n",
      " ['Chicken Tavuk Mandi😋😋 . . @thecharcoalbayofficial . . #asmr #asmrfood #asmrcommunity #asmreating #asmrsounds #asmrvideo #asmrsound #mandi #chickenmandi #foodieincar #viral #viralvideos', 'Shawarmaaaa😋 . @donerclub.in . Chicken loaded fries Doner chicken burger Doner roll . #asmr #asmrfood #asmrcommunity #asmreating #asmrsounds #asmrvideo #döner #loadedfries #mahindra #xuv700 #foodieincar', 'Kurach Heavy ayon oru doubt😂😂 @wiltonrestaurant_ . . 1) Chicken Bamboo Biriyani 2) Pothuvariyellu Biriyani . . #asmr #asmrfood #asmrcommunity #asmreating #asmrsounds #asmrvideo #bamboobiriyani #chickenbiriyani #pothuvariyellubiriyani #mahindra #foodieincar #viral #wayanad', 'Shawarmaaaa😋😋😋 @meatbarrel_ . . Turkish shawarma roll : 150 Meat barrel special shawarma : 240 Hummus plate : 100 Salad with meat : 160 Meat loaded fries : 230 . Location : Edappally , Kakkanad . #asmr #asmrfood #asmrcommunity #asmreating #asmrsounds #asmrvideo #shawarma #shawarmalovers #loadedfries #hummus #salad #turkishshawarma #pepsi #mahindra #foodieincar #kochi #kochigram', 'Porotta porotta porottaaa😋😋😋 . . @imperialkitchen_kowdiar . . #asmr #asmrcommunity #asmreating #asmrsounds #asmrvideo #asmrfood #porotta #porottabeef #mahindra #viral #foodieincar', 'A wide variety of foods😋😋😋 . . Charcoal bay dimond platter . . @thecharcoalbayofficial . . #asmr #asmrfood #asmrcommunity #asmreating #asmrsounds #asmrvideo #viral #platters #mahindra #foodieincar #edappal', 'Yummy loaded fries… Must try @donerclub.in . . Doner Roll Doner loaded fries😋😋 Doner burger . . #asmr #asmrfood #asmrcommunity #asmreating #asmrsounds #asmrvideo #asmrcrunchy #döner #donerchicken #loadedfries #burger #dönerburger #mahindra #viral #kochi #ernakulam', 'കടൽ കാറ്റ് ( kadal katt) from @wiltonrestaurant_ Sea food meals😋😋 . . #asmr #asmrcommunity #asmrfood #asmreating #asmrsounds #asmrvideo #seafood #seafoodmeals #viral #mahindra #wayanad #sulthanbathery #trendingreels', 'Porotta Beef & mango juice😋😋 . . #asmr #asmrcommunity #asmreating #asmrfood #asmrsounds #asmrvideo #asmrviral #viral #mango #porota #beef #porottabeef #mahindra', 'Appam & Fish Mango curry😋😋😋 . . @imperialkitchen_venpalavattom . . #asmr #asmrcommunity #asmreating #asmrsounds #asmrvideo #asmrsound #asmrvideos #appam #fishmangocurry #fishmango #viral #foodieincar #mahindra']\n",
      "foodtalkindia \n",
      " ['#NewInTown @miamodiner brings the best of American diner culture to the streets of Delhi! Experience the classic American charm of a diner from cozy booths to nostalgic decor. From sizzling burgers to fries that are always on point, they are serving up some American classics with a twist! 📍Location: Khan Market 📞For Reservations: +91 9711993266', 'Size matters. When we started @anthem.in last year, we knew one thing for sure: we had to be bigger than ever. Bigger events, better experiences, higher impact. @worldclassin Cocktail Week leading up to the @worldclassin Cocktail Festival has been a solid reassurance that we are moving in the right direction. This weekend, we proved, mostly to ourselves, that nothing—absolutely nothing—can deter us from achieving our goals. Bringing 4,000 people together in one space in >45 degree scorching heat, where the only thing raising the temperature was the electrifying music and incredible cocktails, was no simple feat. But it became a beautiful, gratifying journey alongside our dedicated, determined team. Onwards and upwards, Team Anthem. Bring it on. P.S. It was fully air-conditioned inside. @diageo_india @diageo @donjuliotequila @johnniewalkerindia @thesingletonindia @tanquerayindia @taliskerindia @baileysofficial @godawansinglemalt', 'What a fabulous evening at @theleela for the World Class Cocktail Festival! 🍸✨ A grand welcome led our guests to The Library Bar, where signature cocktails wowed everyone. Everyone savoured a stunning grazing table and a progressive menu with delights from Megu, Le Cirque, Jamavar, and Qube—truly the Best of The Leela! Guests shared their experiences and mingled with Siya Negi, Head of Bar Program and a Diageo World Class finalist. Cheers to an unforgettable night! 🥂🌟 #collab', 'Join the fun with @blackandwhite.gingerale 🍹 Picture this: A long table filled with delicious food, refreshing drinks, and a lively crowd ready to have fun and play games. Head to the link in our bio to sign up for this exclusive, interactive, fun-filled experience that you won’t want to miss! Limited slots available! Date: 27th June Time: 3:30 pm onwards Venue: Ping’s Bia Hoi, Sangolda, Goa', '#NewInTown Marking a new addition to the city’s thriving social and culinary scenes, @one8.commune is now open in Hyderabad. The restaurant captures the spirit of the city itself - dynamic, vivacious, and buzzing with possibilities. The space offers a warm and inviting atmosphere, innovative and generous cuisine, and a cocktail lineup that is both approachable and exciting. 📍Location: HITEC City, Hyderabad 📞For Reservations: 9559071818 | 9559081818', 'Exquisite cocktails, electric bar-takeovers and a whole lot groove with the music acts! Still a day to Sip. Savour. Celebrate. with #AGlassOfWorldClass Find Day 2 passes at the link in bio!', 'Join us for an unforgettable evening with @blackandwhite.gingerale 🥃✨ An evening of celebration, connection, and community all while you indulge in delicious food, tasty tipples, tastings, and some fun & interactive games! 🗓️ Date: 20th June 🕢 Time: 7:30 pm onwards 📍 Venue: Biergarten Brewery & Kitchen Koramangala, Bengaluru Head to the link in our bio to sign up for this exclusive dinner experience. Limited slots available!', 'Check out the top bars and drinks for the perfect night out in the neighbourhood! #Drinks #Bars #BestBars #BestDrinks #Eateries #GreaterKailash #Delhi', 'Discover the culinary gems of Greater Kailash! Must-try eateries in GK for a food adventure like no other #GreaterKailash #Eateries #Food #Drinks #FoodTalkIndia', 'There’s something about small, unassuming restaurants whose main focus is on serving impeccable food amidst a homely, cosy environment. @zuruzuru.in is just that. Every time I go there, a bit of me gets transported to eating ramen at a local Japanese joint, which, in my opinion, is the highest praise. “Food experience” in its purest form. #Delhi']\n",
      "food \n",
      " ['We may be on the brink of another Summer Sriracha shortage. The company announced they are halting production of the wildly popular sauce due to the current supply of hot peppers that are making the product “a little too green.” Sriracha will look to pickup production till after Labor Day when the next Chili season begins. Time to stock up on Sriracha. Tag a hot sauce lover that needs to know 🌶️ #sriracha #hotsauce #hotsaucelover #spicy #spicyfood', '“Tissue Bread” is the latest viral trend out of Seoul. Just don’t try to use it 🤧🍞😂 #tissuebread #viralfood #foodreels #koreanfood', 'Disney World becomes the first theme park with a Michelin Star after its restaurant Victoria and Albert’s earned the coveted culinary recognition. Contrary to being part of Disney, dinners must be 10+ and the pri-fixe menu starts at $300 per person. Who says Disney is just for kids? #disney #disneyworld #disneyland #finedining #michelinstar', 'Proof Jalan is already living in the future 🤖🍰 Who wants to try these incredibly crafted desserts? 🎥 @bokksu #desserts #foodstyling #cakes #foodart #japan', '“Hey George, Red Lobster called. They’re running out of shrimp…and money” 🦐💸 Seafood Chain @redlobster is now eyeing bankruptcy after loosing $11 Million from endless shrimp promotion. Which begs the question how much shrimp is too much shrimp? #seafood #shrimp #lobster #redlobster #seinfeld #georgecastanza', 'Your DMs are killing the dining experience, so Al Condómino restaurant in Verona Italy has a solution. They are offering diners a free bottle of wine for anyone who hands over their phone before the meal. Would you participate in this offer? #restaurants #italy #italianrestaurant #italianfood #wine', '@heinz wants to protect you from unfortunate ketchup mishaps by offering “the world’s first ketchup insurance policy.” For people who have spillage they can go to the MyBenefits app where 57 different types of claims of covered. What do you think of this idea? #ketchup #heinz #marketing', '2-Star Michelin Chef @henriquesapessoa from @alma.henriquesapessoa in Portugal, just opened @sereiamiami his first restaurant in the U.S. The restaurant aims to provide a coastal-inspired menu with a focus on fresh seafood and vibrant flavors and a “love letter to the sea.” The restaurant has an elegant while stylish interior design with a modern and inviting atmosphere. Sereia brings another heavy hitter to the dining scene in the Coconut Grove area of Miami. #miamibeach #miami #miamirestaurants #michelinstar', 'We’ve seemed to reach peak pickle-mania 🥒 @naturemadevitamins just dropped their first pickle flavored multivitamin and is partnering with Pickleball USA as the official multivitamin of the sport. They also launched a slew of pickle themed pickleball merch. Share with a pickle (or pickleball) lover that needs to know 🥒🏓 #pickles #pickleball #pickleballislife #picklelover', 'People are getting heated after Momofuku, founded by Dave Chang, recently acquired the trademark for the term “chili crunch.” Other makers of chili crunch products (many Asian small businesses) are receiving cease-and-desist letters to stop using the trademarked term. Many are arguing that this hurts small businesses and that trademarking “chili crunch” is like trademarking “ketchup.” What do you think of the chili crunch trademark battle? 📸 Louiie Victa, Eater #momofuku #chilicrunch #spicy #asianfood #koreanfood #foodbrand']\n",
      "foodies_of_bhubaneswar \n",
      " ['ପାଟିରୁ ଲାଳ ବାହାରି ଗଲାଣି ନା 😜🤤 📍 location - In front of CIPET, infocity,Patia,Bhubaneswar 𝗟𝗜𝗞𝗘👍 | 𝗦𝗔𝗩𝗘 🛟 | 𝗦𝗛𝗔𝗥𝗘 🤝 Follow our FOBulous food journey 😉 with ✨@foodies_of_bhubaneswar ✨@foodies_of_bhubaneswar ✨@foodies_of_bhubaneswar ✨@foodies_of_bhubaneswar #foodiesofbhubaneswar #foblive #fobreels #bhubaneswar #foodies', 'NIARA food joint, RUN BY SPECIALLY ABLED PEOPLE ☺️ Special thanks to @rkplife for recommending this place 😊 This place is an example for everyone that they are no different from us . A restaurant run by group of specially abled people where they manage , serve food , bake and sell it earn their livelihood. The place is clean , hygienic & the food preparation is homely & with less masala-oil. Quality of food is really good. The plain thali costs ₹80 & the menu changes everyday. They also sell non-veg dishes & in the evening they run fast food joint. They also have their own bakery & sell them at the front of the shop. We are very glad that we could visit the place & got very humble response and service from them.😊 Location- Hotel Niara khadya prangan, near MCL guest house, in front of Open Learning Systems-OLS ,Plot No: G-3/A/1, Gadakana Mauza Near Press Chhak, Bhubaneswar 𝗟𝗜𝗞𝗘👍 | 𝗦𝗔𝗩𝗘 🛟 | 𝗦𝗛𝗔𝗥𝗘 🤝 Follow our FOBulous food journey 😉 with ✨@foodies_of_bhubaneswar ✨@foodies_of_bhubaneswar ✨@foodies_of_bhubaneswar ✨@foodies_of_bhubaneswar #foodiesofbhubaneswar #foblive #fobreels #bhubaneswar #foodies #chaloodisha', '“କେବେ ହସି ଖେଳି , ପଦିଏ ଦୁଇ ପଦ କଥା କହି କେବେ ଇତିହାସର ପୃଷ୍ଠାରୁ ଓଡ଼ିଆର ଜୀବନ ବଖାଣି, ନିଜର ଆଖି ଆଇନାରେ ଓଡ଼ିଶାର ପରିସୀମା ଦେଖାଇ, ହାତର କଳାରେ ସଭିଙ୍କ ମନକୁ ମୋହି, ଖାଦ୍ୟ-ମହକଟା ଫଟୋଚିତ୍ରରେ ଉତ୍ତରି କେବେ ଆଙ୍କି ଦିଏ ଛୋଟ କାହାଣୀଟେ ପରି । ଆଜିର ସମାରୋହ ଆପଣଙ୍କ ପାଇଁ , ଆପଣଙ୍କ ଅବଦାନ ପାଇଁ, ସେ ସବୁ ଓଡ଼ିଆ ଜାତିର ସଞ୍ଚୟ, ତୁମ ପାଇଁ ଗଢା ଓଡ଼ିଶାର ଏ ପରିଚୟ। ❤️🙏” @odishatourismofficial with @foodies_of_bhubaneswar x @chalo_odisha organised a day to appreciate the Odia content creators for their work at “PARICHAYA” 🙏❤️. An event to remember, and memories to cherish forever! PARICHAYA was a huge success, and we couldn’t have done it without the support of our incredible guests @sabyasachi_actor , @rapperbigdeal , creators, and sponsors @gupta_distributors @frozit.in Event partner-@genextevent . We hope to have created a platform for all the talented Odisha content creators to showcase their skills, and inspire more to come forward. As they say, ‘Alone we can do so little; together we can do so much.’ Thank you for being a part of our journey, and we look forward to creating more magic in the future! A successful team work with @chalo_odisha 🤝 Many more to come 💪 A special thanks to all the creators who have joined us. Thank you 🙏❤️ #odishatourism #chaloodisha #foodiesofbhubaneswar #creators #odisha #loveforodisha', 'ANOTHER VADA PAO GIRL !! 🤔 I just realized how much I missed in my voiceover. Yes, when I mentioned authentic preparation, I forgot to talk about the onions, or \\'kanda.\\' Traditionally, onions are not included inside a vada pav. Additionally, I feel like I have used \"authentic\" twice, but in a contradictory manner.😅 📍 Location: Hot n Spicy Bombay Vada Pav, Jharapada Durga Mandap, Beside Apollo Store, Bhubaneswar 🕔 Time: 5 PM onwards 💸 Prices: - 2 Vada Pav for ₹50 - 1 Vada Pav for ₹30 𝗟𝗜𝗞𝗘👍 | 𝗦𝗔𝗩𝗘 🛟 | 𝗦𝗛𝗔𝗥𝗘 🤝 Follow our FOBulous food journey 😉 with ✨@foodies_of_bhubaneswar ✨@foodies_of_bhubaneswar ✨@foodies_of_bhubaneswar ✨@foodies_of_bhubaneswar #foodiesofbhubaneswar #foblive #fobreels #bhubaneswar #foodies', \"CHEF SPECIAL RAJA BUFFET at @lemontreepremierbhubaneswar 😍 At Lemon Tree Premier's Citrus Restaurant, Raja Festival comes alive with an ambiance that's as vibrant as the menu. This Raja, the Chef’s Special Raja Buffet offers a spectacular array of over 50 dishes, set against a stunning pool view that truly enhances the festive spirit. 🌺💦 From the refreshing Aam Panna to the creatively named 'Lingaraj Lassi'—with Khoya, Chhena, and Nadiya—the welcome drinks set a delightful tone. The buffet is a paradise for Pitha lovers, featuring favorites like Monda, Kakara, Arisa, and patisapta Pitha, among others. 🥥🍰 It continues with a rich selection of soups and salads, including Tomato Dhaniya Shorba and a vibrant Corn Mango Salad. Not to forget, the Dahi Bara Aloo Dum that brings a piece of Odia tradition to the table. Starters like Chingudi Ghee Roast and assorted Paneer Tikka offer a crispy start to the feast. 🍤🌿 The main course marries traditional Odia flavors with Lemon Tree’s signature style, featuring dishes like Kanika Rice, Macha Besara, and a standout Odia Style Mutton. As you indulge in these flavors, the vibrant and Raja-themed decor, complete with swings, adds to the festivity. 🍛🎉 Wrap up your meal with a dessert lineup that includes Mango Custard, Rasagola, Malpua, and Rabdi, ensuring your dining experience ends on a sweet note. 🍮🎊 Remember, the menu changes daily, so each visit might bring new delights. Join at Citrus Restaurant from June 14th to 16th for a Raja celebration you won't forget. Priced at ₹1350 plus taxes per person. Book now : 📞 +91 674 6686666 📅 Date: 14th – 16th June 2024 📍 Venue: Citrus Restaurant, Lemon Tree Premier, Plot No- B, 1334, Maitre Vihar Rd, Maitri Vihar, NALCO Nagar, Chandrasekharpur, Bhubaneswar PS: The price of ₹1350 plus taxes applies to both the vegetarian and non-vegetarian buffet options and is charged per person. Please note that the buffet cannot be shared. #RajaFestival #LemonTreePremier #CitrusRestaurant #OdiaCuisine #PithaFestival #foodiesofbhubaneswar #FestiveFeast #BhubaneswarEvents\", \"@lemontreepremierbhubaneswar brings the essence of Raja to the Citrus Restaurant, offering an exquisite spread that captures the heart of this festive season. From June 14th to 16th, immerse yourself in a celebration of flavors at the Chef’s Special Raja Buffet. Featuring over 50+ unforgettable dishes, including a wide array of traditional Odia Pithas at live cooking stations, this is the place to experience the true spirit of Raja. Priced at just ₹1350 (+ taxes), the buffet promises not just a meal, but an extravaganza of taste and tradition. Whether you're a lover of fine dining or eager to explore new culinary landscapes, the Citrus Restaurant at Lemon Tree Premier is your destination this Raja. Don’t miss out on the chance to indulge in a festive feast that’s as vibrant as the festival itself! 📅 Date: 14th – 16th June 2024 📍 Venue: Citrus Restaurant, Lemon Tree Premier, Plot No- B, 1334, Maitre Vihar Rd, Maitri Vihar, NALCO Nagar, Chandrasekharpur, Bhubaneswar, #RajaFestival #LemonTreePremier #CitrusRestaurant #OdiaCuisine #PithaFestival #FoodiesOfBhubaneswar #RajaCelebrations #GourmetExperience #CulinaryJourney #FestiveFeast\", 'Celebrate the spirit of Raja with us at Raja Pasara 2.0, hosted by Chef SMRUTISREE at Just Delicious, Hotel Crystal Crown! 🌸✨ Dive into a lavish feast featuring over 60 sumptuous dishes, including a selection of more than 20 non-veg delights. Join us for: - 🍽️ Lunch Buffet: 12:30 PM - 3:30 PM for ₹1199 +GST - 🌇 Dinner Buffet: 7:00 PM - 10:00 PM for ₹1199 +GST - 🥘 Special Raja Platter: 5:00 PM - 10:00 PM for ₹499 +GST Indulge in live music, traditional games, and a culinary journey like no other during this vibrant festival. Don’t miss out on this exquisite dining experience. Book your spot now! 📞 +91 6370700972 / 6370700973 #RajaFestival #JustDelicious #ChefSmrutiSree #OdiaCuisine #HotelCrystalCrown #BhubaneswarEvents #FoodFestival #CelebrateRaja #RajaPasara2024 #foodiesofbhubaneswar', 'Celebrate Raja like never before at @utkalkanikagalleria! 🎉 Dive into the festive spirit with over 15 international and local food brands offering a delicious food. Nestled in the heart of the city, our food court isn’t just about great food—it’s an experience! 🍽️ Feast Your Senses:Indulge in a diverse range of dishes that cater to all palates. 🏙️ Scenic Views:Enjoy breathtaking cityscapes from our glass area. 🛍️ Shop & Dine: Why choose one when you can enjoy both? Combine your passion for shopping with a gourmet food experience at vibrant, restaurant-style seating. 🌟 Vibrant Ambiance: welcoming atmosphere is perfect for making Raja celebrations memorable. This Raja, make @utkalkanikagalleria your go-to destination for a fusion of shopping and exceptional dining. Join here for a unique food court experience that promises more than just a meal—it’s where essence of Raja comes to life. #RajaFoodFiesta2024 #UtkalKanikaGalleria #RajaAtGalleria #Bhubaneswar #RajaFestival #FoodCourt #FoodiesOfBhubaneswar #EtharaRajaUtkalKanikaGalleriaRe #LetsGoGalleria', '@saami.brews , renowned in Bhubaneswar for its amazing ambiance, soothing environment, and delicious food, has now introduced the Saami Signature Thali. This special Odia Thali includes all your favorite dishes as sides, integrating their signature seafood style with offerings like crab masala, fish, crab Thali, fish Thali, prawn Thali, as well as mutton and chicken Thali. For vegetarians, there’s also a delicious veg Thali option. Saami Signature Thali Options: - Fish Thali: ₹350 - Chicken Thali: ₹350 - Prawn Thali: ₹550 - Mutton Thali: ₹500 - Crab Thali: ₹650 - Veg Thali: ₹250 - Special Veg Thali: ₹350 Whether you’re a seafood lover or prefer vegetarian options, Saami’s new thali lineup promises an unforgettable dining experience. 📍Location: Saami,A5/1, above Central Honda, UNIT- 9, Bhubaneswar, Odisha 751022 #SamiSignatureThali #BhubaneswarEats #OdiaThali #SeafoodLover #VegThali #GourmetExperience #foodiesofbhubaneswar', 'TAG YOUR SEA FOOD LOVER FRIEND 😍🦞🍤 So many restaurants in Bhubaneswar, but only a few serve truly authentic and fresh seafood. Some are within Bhubaneswar, others on the outskirts. But at Akis Harbour, I discovered a place that offers fresh, deliciously prepared seafood, from exotic lobsters to prawns and fish. It’s a cozy 20-30 seater spot, perfect for daily meals, lunches, or gatherings. I’m usually skeptical when places claim their seafood is “fresh,” but tasting it here, I could genuinely appreciate the freshness. I started with the full lobster, prepared with a chef-recommended sauce. Lobster isn’t everyday seafood for me, so it was either going to be a hit or miss. Thankfully, it was incredibly fresh, with the flavors and texture perfectly preserved, not overwhelmed by the sauce. The prawn masala was another highlight, a perfect complement to a rice meal. The gravy was flavorful, enhancing the prawns superbly. And the crab chili—Often, the flavors don’t penetrate the crab’s hard shell if it’s not cooked right. But here, the meat was tender, flavorful, and had a delightful chili kick. I’m not usually a seafood enthusiast, but enjoying these dishes is a sure sign that true seafood lovers will like here. Have you visited this place? I’ll provide the prices and location below. Let me know your thoughts! 🦞🍤🦀 Prices: • Lobster Dry (Medium): ₹1,349.00 • Prawn: ₹649.00 • Chilli Crab: ₹499.00 📍Location: Aki’s Harbour, 1st Floor, Royal Arcade, Raghunathpur-Unit-107, Raghunathpur, Bhubaneswar #BhubaneswarEats #SeafoodLover #AkisHarbour #FreshSeafood #FoodieDiaries #ExploreBhubaneswar #LobsterLove #PrawnMasala #CrabChili #GastronomicDelights']\n"
     ]
    }
   ],
   "source": [
    "# 2.1\n",
    "\n",
    "contents = []\n",
    "for handle in handles:\n",
    "    content = post_content(driver, handle)\n",
    "    print(handle,'\\n',content)\n",
    "    contents.append(content)"
   ]
  },
  {
   "cell_type": "code",
   "execution_count": 154,
   "id": "0b5f486a-ae3a-4526-b0a4-1aeb8a5426a8",
   "metadata": {},
   "outputs": [
    {
     "name": "stdout",
     "output_type": "stream",
     "text": [
      "                      Word  Frequency\n",
      "0                      the        146\n",
      "1                        a         94\n",
      "2                       to         93\n",
      "3                       of         67\n",
      "4                      and         66\n",
      "...                    ...        ...\n",
      "1813                 whole          1\n",
      "1814         bar-takeovers          1\n",
      "1815              electric          1\n",
      "1816   9559081818exquisite          1\n",
      "1817  #gastronomicdelights          1\n",
      "\n",
      "[1818 rows x 2 columns]\n"
     ]
    }
   ],
   "source": [
    "# 2.2 and 2.3\n",
    "\n",
    "## Creating a single string from all the post contents\n",
    "total_content = ''\n",
    "for row in contents:\n",
    "    for content in row:\n",
    "        total_content = total_content + content\n",
    "\n",
    "## Splitting the string at ' '\n",
    "total_content = total_content.split()\n",
    "\n",
    "word_wise = {}\n",
    "for word in total_content:\n",
    "    ## Formatting the word, before adding to the dictionary\n",
    "    this_word = word.strip().lower()\n",
    "    word_wise[this_word] = word_wise.get(this_word, 0) + 1\n",
    "\n",
    "## Creating a nested list from the dictionary, to easily convert to pandas dataframe\n",
    "word_list = []\n",
    "for word in word_wise:\n",
    "    word_list.append([word, word_wise[word]])\n",
    "\n",
    "## Creating a pandas dataframe\n",
    "df_words = pd.DataFrame(word_list, columns = ['Word', 'Frequency'])\n",
    "\n",
    "## Sorting the DataFrame\n",
    "df_words.sort_values('Frequency', axis=0, ascending=False, inplace=True, kind='quicksort', na_position='last', ignore_index=False, key=None)\n",
    "\n",
    "## Reseting the index\n",
    "df_words.reset_index(drop = True, inplace = True)\n",
    "print(df_words)\n",
    "\n",
    "## Exporting the CSV File\n",
    "df_words.to_csv('word_freq.csv', index = False)"
   ]
  },
  {
   "cell_type": "code",
   "execution_count": 155,
   "id": "1a5bcb37-d075-49b3-a554-4715bdfa781d",
   "metadata": {},
   "outputs": [
    {
     "name": "stdout",
     "output_type": "stream",
     "text": [
      "                      Word  Frequency\n",
      "0              #asmreating         10\n",
      "1               #asmrvideo         10\n",
      "2              #asmrsounds         10\n",
      "3           #asmrcommunity         10\n",
      "4                    #asmr         10\n",
      "..                     ...        ...\n",
      "168                  #bars          1\n",
      "169  #foodtalkindiathere’s          1\n",
      "170                  #food          1\n",
      "171    #aglassofworldclass          1\n",
      "172   #gastronomicdelights          1\n",
      "\n",
      "[173 rows x 2 columns]\n"
     ]
    }
   ],
   "source": [
    "# 2.4\n",
    "## To Be Noted: DataFrame is already in Descending Order\n",
    "## Boolean Indexing DataFrame to extract hashtags\n",
    "hashes = df_words.Word.apply(lambda s: True if s[0] == '#' else False)\n",
    "hash_df = df_words[hashes]\n",
    "\n",
    "## Reseting the index\n",
    "hash_df.reset_index(drop = True, inplace = True)\n",
    "\n",
    "## Printing the resulting DataFrame\n",
    "print(hash_df)"
   ]
  },
  {
   "cell_type": "code",
   "execution_count": 160,
   "id": "c683a28d-6a3b-4fbd-9509-5bacb041aeab",
   "metadata": {},
   "outputs": [
    {
     "data": {
      "image/png": "[encoded data removed]",
      "text/plain": [
       "<Figure size 640x480 with 1 Axes>"
      ]
     },
     "metadata": {},
     "output_type": "display_data"
    }
   ],
   "source": [
    "# 2.5\n",
    "\n",
    "## Function to return the numbers to the pie chart\n",
    "def pie_value(pct, freq):\n",
    "    total = sum(freq)\n",
    "    val = int(round(pct*total/100.0))\n",
    "    return '{v:d}'.format(v=val)\n",
    "\n",
    "word = []\n",
    "freq = []\n",
    "for index in hash_df.head().index:\n",
    "    word.append(hash_df.iloc[index, 0])\n",
    "    freq.append(hash_df.iloc[index, 1])\n",
    "\n",
    "plt.pie(freq, labels = word, autopct = lambda pct: pie_value(pct, freq))\n",
    "plt.show()"
   ]
  },
  {
   "cell_type": "markdown",
   "id": "2b2cc2f7-ec3d-4ff6-aebb-75a4a9c54e22",
   "metadata": {},
   "source": [
    "### Question - 3"
   ]
  },
  {
   "cell_type": "code",
   "execution_count": 188,
   "id": "f71a6ba5-1adc-4542-8645-1681d76dd12d",
   "metadata": {},
   "outputs": [
    {
     "name": "stdout",
     "output_type": "stream",
     "text": [
      "{'foodpharmer': [639158, 180952, 894531, 287329, 452773, 88938, 278131, 281609, 260928, 143551], 'foodie_in_car': [20747, 13168, 26337, 28684, 56826, 29297, 21771, 16254, 44484, 22431], 'foodtalkindia': [56, 623, 153, 32, 56, 55, 37, 142, 236, 7964], 'food': 'likes are hidden for this profile', 'foodies_of_bhubaneswar': 'likes are hidden for this profile'}\n"
     ]
    }
   ],
   "source": [
    "# 3.1\n",
    "\n",
    "## Extracting a list of likes on first 10 posts of the handle\n",
    "handle_like_dict = {}\n",
    "for handle in handles:\n",
    "    handle_likes = like_list(driver, handle)\n",
    "    handle_like_dict[handle] = handle_likes\n",
    "\n",
    "print(handle_like_dict)"
   ]
  },
  {
   "cell_type": "code",
   "execution_count": 199,
   "id": "13644a23-a781-492b-9483-e49c28defcef",
   "metadata": {},
   "outputs": [
    {
     "name": "stdout",
     "output_type": "stream",
     "text": [
      "Cannot find Average because, like count is hidden for the profile: food\n",
      "Cannot find Average because, like count is hidden for the profile: foodies_of_bhubaneswar\n",
      "\n",
      "\n",
      "Average Likes count (int)\n",
      "{'foodpharmer': 350790, 'foodie_in_car': 27999, 'foodtalkindia': 935}\n"
     ]
    }
   ],
   "source": [
    "# 3.2\n",
    "avg_dict = {}\n",
    "for handle in handle_like_dict:\n",
    "    likes = handle_like_dict[handle]\n",
    "    \n",
    "    ## Printing Error message if, likes are hidden\n",
    "    if isinstance(likes, str):\n",
    "        print(f'Cannot find Average because, like count is hidden for the profile: {handle}')\n",
    "        continue\n",
    "\n",
    "    ## Calculating avergae likes and storing in the dictionary otherwise\n",
    "    like_sum = sum(likes)\n",
    "    avg_dict[handle] = like_sum // 10\n",
    "\n",
    "## Printing the dictionary containing the average likes of the handles\n",
    "print('\\n\\nAverage Likes count (int)')\n",
    "print(avg_dict)"
   ]
  },
  {
   "cell_type": "code",
   "execution_count": 203,
   "id": "7a11f258-6752-421b-ac4a-4f24f02b5d83",
   "metadata": {},
   "outputs": [
    {
     "name": "stdout",
     "output_type": "stream",
     "text": [
      "Ratio for foodpharmer = 0.1343153798174285\n",
      "Ratio for foodie_in_car = 0.06442698206334779\n",
      "Ratio for foodtalkindia = 0.0030282027697529504\n"
     ]
    }
   ],
   "source": [
    "# 3.3\n",
    "\n",
    "ratio_list = []\n",
    "upd_handles = list(avg_dict.keys())\n",
    "\n",
    "## Creating a dictionary of followers list\n",
    "u_foll = {}\n",
    "for f_count in user_followers:\n",
    "    u_foll[f_count[0]] = f_count[1]\n",
    "    \n",
    "## Finding the like:follower ratio\n",
    "for handle in avg_dict:\n",
    "    fol_like_ratio = avg_dict[handle] / u_foll[handle]\n",
    "    ratio_list.append(fol_like_ratio)\n",
    "\n",
    "## Printing the ratio\n",
    "for count in range(len(ratio_list)):\n",
    "    print(f'Ratio for {upd_handles[count]} = {ratio_list[count]}')"
   ]
  },
  {
   "cell_type": "code",
   "execution_count": 218,
   "id": "e7d936e0-eb74-452f-8b8b-ff541f16c3a9",
   "metadata": {},
   "outputs": [
    {
     "data": {
      "image/png": "[encoded data removed]",
      "text/plain": [
       "<Figure size 640x480 with 1 Axes>"
      ]
     },
     "metadata": {},
     "output_type": "display_data"
    }
   ],
   "source": [
    "# 3.4\n",
    "\n",
    "## Creating a bar graph to visualize the findings\n",
    "plt.bar(upd_handles, ratio_list, width = 0.5)\n",
    "\n",
    "## Naming the title of the graph\n",
    "plt.title('Likes Ratio of Food Bloggers')\n",
    "\n",
    "## Giving label on y-axis\n",
    "plt.ylabel('Likes to Follower Ratio')\n",
    "\n",
    "## Giving label on x-axis\n",
    "plt.xlabel('Profile_Name')\n",
    "\n",
    "## Assigning y-ticks\n",
    "y_height = max(ratio_list) + 0.01\n",
    "plt.yticks(np.arange(0, y_height, 0.01))\n",
    "\n",
    "## Plotting grids for easier viewing of the graphs\n",
    "plt.grid()\n",
    "\n",
    "## Showing the graph\n",
    "plt.show()"
   ]
  }
 ],
 "metadata": {
  "kernelspec": {
   "display_name": "Python 3 (ipykernel)",
   "language": "python",
   "name": "python3"
  },
  "language_info": {
   "codemirror_mode": {
    "name": "ipython",
    "version": 3
   },
   "file_extension": ".py",
   "mimetype": "text/x-python",
   "name": "python",
   "nbconvert_exporter": "python",
   "pygments_lexer": "ipython3",
   "version": "3.11.7"
  }
 },
 "nbformat": 4,
 "nbformat_minor": 5
}
